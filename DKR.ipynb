{
 "cells": [
  {
   "cell_type": "markdown",
   "id": "12b6b866",
   "metadata": {},
   "source": [
    "## 1."
   ]
  },
  {
   "cell_type": "markdown",
   "id": "6d93f60d",
   "metadata": {},
   "source": [
    "Перевірте, що набір публічних параметрів $(N, p, q, d) = (7, 3, 41, 2)$ криптосистеми $NTRUCrypt$ є коректним."
   ]
  },
  {
   "cell_type": "markdown",
   "id": "835086dd",
   "metadata": {},
   "source": [
    "$N=7$ - просте;\n",
    "\n",
    "$d=2$ - натуральне;\n",
    "\n",
    "$p=3$ - просте;\n",
    "\n",
    "Перевіримо, що натуральне $q$ взаємно простое з $N$ і $p$, і таке, що $q>(6d+1)p:$ "
   ]
  },
  {
   "cell_type": "code",
   "execution_count": 81,
   "id": "cbbb3175",
   "metadata": {},
   "outputs": [],
   "source": [
    "N, p, q, d = 7, 3, 41, 2"
   ]
  },
  {
   "cell_type": "code",
   "execution_count": 82,
   "id": "42a70399",
   "metadata": {},
   "outputs": [],
   "source": [
    "def gcd(a, b):\n",
    "    return a if b == 0 else gcd(b, a%b)"
   ]
  },
  {
   "cell_type": "code",
   "execution_count": 83,
   "id": "c92ab8b3",
   "metadata": {},
   "outputs": [
    {
     "name": "stdout",
     "output_type": "stream",
     "text": [
      "q i N взаємно прості.\n"
     ]
    }
   ],
   "source": [
    "if gcd(q, N) == 1:\n",
    "    print('q i N взаємно прості.')\n",
    "else:\n",
    "    print('q i N НЕ взаємно прості.')"
   ]
  },
  {
   "cell_type": "code",
   "execution_count": 84,
   "id": "c5f12e31",
   "metadata": {},
   "outputs": [
    {
     "name": "stdout",
     "output_type": "stream",
     "text": [
      "q i p взаємно прості.\n"
     ]
    }
   ],
   "source": [
    "if gcd(q, p) == 1:\n",
    "    print('q i p взаємно прості.')\n",
    "else:\n",
    "    print('q i p НЕ взаємно прості.')"
   ]
  },
  {
   "cell_type": "code",
   "execution_count": 85,
   "id": "3f4cd0fd",
   "metadata": {},
   "outputs": [
    {
     "name": "stdout",
     "output_type": "stream",
     "text": [
      "True\n"
     ]
    }
   ],
   "source": [
    "print(q > (6*d + 1)*p)"
   ]
  },
  {
   "cell_type": "markdown",
   "id": "3f7a4e11",
   "metadata": {},
   "source": [
    "Отже, набір публічних параметрів $(N, p, q, d) = (7, 3, 41, 2)$ криптосистеми $NTRUCrypt$ є коректним."
   ]
  },
  {
   "cell_type": "markdown",
   "id": "f6688e6c",
   "metadata": {},
   "source": [
    "Використовуючи секретний ключ \n",
    "\n",
    "$$sk=(x^6+x^5-x^4+x^3-1,x^5+x^3+2x)$$\n",
    "\n",
    "розшифруйте криптотекст $c=-17x^5-13x^4-20x^3-13x^2+10x+5$."
   ]
  },
  {
   "cell_type": "code",
   "execution_count": 99,
   "id": "454aa6d2",
   "metadata": {},
   "outputs": [],
   "source": [
    "def mul_conv_poly(a, b, m):\n",
    "    c = []\n",
    "    for k in range(N):\n",
    "        c_k = 0\n",
    "        for i in range(N):\n",
    "            for j in range(N):\n",
    "                if (i + j)%N == k:\n",
    "                    c_k += a[i]*b[j]\n",
    "        c.append(c_k%m)\n",
    "    return c"
   ]
  },
  {
   "cell_type": "code",
   "execution_count": 100,
   "id": "78de338c",
   "metadata": {},
   "outputs": [],
   "source": [
    "e = [5, 10, -13, -20, -13, -17, 0]\n",
    "f = [-1, 0, 0, 1, -1, 1, 1]"
   ]
  },
  {
   "cell_type": "code",
   "execution_count": 101,
   "id": "4a8d2b42",
   "metadata": {},
   "outputs": [
    {
     "data": {
      "text/plain": [
       "[40, 35, 38, 36, 1, 40, 8]"
      ]
     },
     "execution_count": 101,
     "metadata": {},
     "output_type": "execute_result"
    }
   ],
   "source": [
    "a = mul_conv_poly(f, e, q)\n",
    "a"
   ]
  },
  {
   "cell_type": "markdown",
   "id": "00fdd42c",
   "metadata": {},
   "source": [
    "$a=f*e=40+35x+38x^2+36x^3+x^4+40x^5+8x^6$"
   ]
  },
  {
   "cell_type": "code",
   "execution_count": 102,
   "id": "d7c97c4c",
   "metadata": {},
   "outputs": [],
   "source": [
    "def center_lift(a, m):\n",
    "    for i in range(N):\n",
    "        while a[i] <= -m/2 or a[i] > m/2:\n",
    "            if a[i] > 0:\n",
    "                a[i] -= m\n",
    "            else: \n",
    "                a[i] += m\n",
    "    return a"
   ]
  },
  {
   "cell_type": "code",
   "execution_count": 103,
   "id": "2f6def58",
   "metadata": {},
   "outputs": [
    {
     "data": {
      "text/plain": [
       "[-1, -6, -3, -5, 1, -1, 8]"
      ]
     },
     "execution_count": 103,
     "metadata": {},
     "output_type": "execute_result"
    }
   ],
   "source": [
    "a_center = center_lift(a, q)\n",
    "a_center"
   ]
  },
  {
   "cell_type": "markdown",
   "id": "fd186495",
   "metadata": {},
   "source": [
    "$a'=-1-6x-3x^2-5x^3+x^4-1x^5+8x^6$"
   ]
  },
  {
   "cell_type": "markdown",
   "id": "c7c59de4",
   "metadata": {},
   "source": [
    "Знайдемо $F_p$:\n",
    "\n",
    "$x^7-1=x^7+2;\\quad f=x^6+x^5-x^4+x^3-1=x^6+x^5+2x^4+x^3+2$\n",
    "\n",
    "$x^7+2=(x+2)(x^6+x^5+2x^4+x^3+2)+2x^5+x^4+x^3+x+1$\n",
    "\n",
    "$x^6+x^5+2x^4+x^3+2=(2x+1)(2x^5+x^4+x^3+x+1)+(2x^4+x^2+1)$\n",
    "\n",
    "$2x^5+x^4+x^3+x+1 =(x+2)(2x^4+x^2+1)+(x^2+2)$\n",
    "\n",
    "$2x^4+x^2+1=2x^2(x^2+2)+1$\n",
    "\n",
    "$1=(2x^4+x^2+1)+x^2(x^2+2)=(2x^4+x^2+1)+x^2(2x^5+x^4+x^3+x+1+$\n",
    "\n",
    "$+(2x+1)(2x^4+x^2+1))=(2x^3+x^2+1)(2x^4+x^2+1)+$\n",
    "\n",
    "$+x^2(2x^5+x^4+x^3+x+1)=(2x^3+x^2+1)(x^6+x^5+2x^4+x^3+2+$\n",
    "\n",
    "$+(x+2)(2x^5+x^4+x^3+x+1))+x^2(2x^5+x^4+x^3+x+1)=(2x^3+x^2+1)$\n",
    "\n",
    "$(x^6+x^5+2x^4+x^3+2)+(2x^3+x^2+1)(x+2)(2x^5+x^4+x^3+x+1)+$\n",
    "\n",
    "$+x^2(2x^5+x^4+x^3+x+1)=(2x^3+x^2+1)(x^6+x^5+2x^4+x^3+2)+$\n",
    "\n",
    "$+(2x^5+x^4+x^3+x+1)(2x^4+2x^3+x+2)=(2x^3+x^2+1)(x^6+x^5+$\n",
    "\n",
    "$+2x^4+x^3+2)+(x^7+2+(2x+1)(x^6+x^5+2x^4+x^3+2))(2x^4+$\n",
    "\n",
    "$+2x^3+x+2)=(2x^3+x^2+1)(x^6+x^5+2x^4+x^3+2)+(x^7+2)(2x^4+$\n",
    "\n",
    "$+2x^3+x+2)+(2x+1)(2x^4+2x^3+x+2)(x^6+x^5+2x^4+x^3+2)=$\n",
    "\n",
    "$=(x^7+2)(2x^4+2x^3+x+2)+(x^6+x^5+2x^4+x^3+2)(x^5+x^3+2x)$\n",
    "\n",
    "отже $F_p=x^5+x^3+2x$"
   ]
  },
  {
   "cell_type": "code",
   "execution_count": 104,
   "id": "75a3e2ff",
   "metadata": {},
   "outputs": [],
   "source": [
    "F_p = [0, 2, 0, 1, 0, 1, 0]"
   ]
  },
  {
   "cell_type": "code",
   "execution_count": 114,
   "id": "497a2626",
   "metadata": {},
   "outputs": [
    {
     "data": {
      "text/plain": [
       "[-1, 1, 1, 1, 0, 0, -1]"
      ]
     },
     "execution_count": 114,
     "metadata": {},
     "output_type": "execute_result"
    }
   ],
   "source": [
    "m = center_lift(mul_conv_poly(F_p, a_center, p), p)\n",
    "m"
   ]
  },
  {
   "cell_type": "markdown",
   "id": "0c6c6d0f",
   "metadata": {},
   "source": [
    "Відповідь: $m=-1+x+x^2+x^3-x^6$"
   ]
  },
  {
   "cell_type": "markdown",
   "id": "1b1fbbc0",
   "metadata": {},
   "source": [
    "## 2."
   ]
  },
  {
   "cell_type": "markdown",
   "id": "8680ac56",
   "metadata": {},
   "source": [
    "Еліптична крива $E$ над полем $GF(631)$ задана рівнянням \n",
    "\n",
    "$$y^2=x^3+30x+34.$$ \n",
    "\n",
    "a) Перевірте, що точки $P=(36, 571), Q=(121, 244)$ належать кривій $E$."
   ]
  },
  {
   "cell_type": "code",
   "execution_count": 604,
   "id": "cbbf1123",
   "metadata": {},
   "outputs": [],
   "source": [
    "MOD = 631\n",
    "P, Q = (36, 571), (121, 244)"
   ]
  },
  {
   "cell_type": "code",
   "execution_count": 605,
   "id": "a0065496",
   "metadata": {},
   "outputs": [],
   "source": [
    "def whether_belong(point):\n",
    "    x, y = point\n",
    "    return (x**3 + 30*x + 34)%MOD == y**2%MOD"
   ]
  },
  {
   "cell_type": "code",
   "execution_count": 606,
   "id": "a8a93c03",
   "metadata": {},
   "outputs": [
    {
     "data": {
      "text/plain": [
       "True"
      ]
     },
     "execution_count": 606,
     "metadata": {},
     "output_type": "execute_result"
    }
   ],
   "source": [
    "whether_belong(P)"
   ]
  },
  {
   "cell_type": "code",
   "execution_count": 607,
   "id": "cd453195",
   "metadata": {},
   "outputs": [
    {
     "data": {
      "text/plain": [
       "True"
      ]
     },
     "execution_count": 607,
     "metadata": {},
     "output_type": "execute_result"
    }
   ],
   "source": [
    "whether_belong(Q)"
   ]
  },
  {
   "cell_type": "markdown",
   "id": "b3e85443",
   "metadata": {},
   "source": [
    "б) Перевірте, що точки $P$ та $Q$ мають порядок $5$ і породжують підгрупу точок експоненти $5$. "
   ]
  },
  {
   "cell_type": "code",
   "execution_count": 608,
   "id": "2e263b07",
   "metadata": {},
   "outputs": [],
   "source": [
    "def inverse(a, m = MOD):\n",
    "    return a**(m - 2)%m if a%m != 0 else print('\\n*NOT INVERTIBLE*\\n')"
   ]
  },
  {
   "cell_type": "code",
   "execution_count": 609,
   "id": "4c7aefa9",
   "metadata": {},
   "outputs": [],
   "source": [
    "def double_point(p, m = MOD, a = 30):\n",
    "    alpha = (3*p[0]**2 + a)*inverse(2*p[1], m)%m\n",
    "    x = (alpha**2 - 2*p[0])%m\n",
    "    y = (-p[1] - alpha*(x - p[0]))%m\n",
    "    return (x, y)"
   ]
  },
  {
   "cell_type": "code",
   "execution_count": 610,
   "id": "3ac22b79",
   "metadata": {},
   "outputs": [],
   "source": [
    "def add_points(a, b, m = MOD):\n",
    "    if a == b:\n",
    "        return double_point(a, m)\n",
    "    if a == (b[0], -b[1]%m) or b == (a[0], -a[1]%m):\n",
    "        return (0, 0)\n",
    "    if a == (0, 0):\n",
    "        return b\n",
    "    alpha =  (a[1] - b[1])*inverse(a[0] - b[0], m)%m\n",
    "    x = (alpha**2 - a[0] - b[0])%m\n",
    "    y = (-alpha*(x - a[0]) - a[1])%m\n",
    "    return (x, y)"
   ]
  },
  {
   "cell_type": "code",
   "execution_count": 611,
   "id": "2bf9c50c",
   "metadata": {},
   "outputs": [],
   "source": [
    "def point_order(point, m = MOD, n = 2):\n",
    "    new_point =  double_point(point, m)\n",
    "    while True:\n",
    "        new_point = add_points(new_point, point, m)\n",
    "        n += 1\n",
    "        if new_point == (0, 0):\n",
    "            return n"
   ]
  },
  {
   "cell_type": "code",
   "execution_count": 612,
   "id": "a632c398",
   "metadata": {},
   "outputs": [],
   "source": [
    "def exp_point(point, n, m = MOD, new_point = (0, 0)):\n",
    "    for i in bin(n)[2:][::-1]:\n",
    "        if int(i) == 1:\n",
    "            new_point = add_points(new_point, point)\n",
    "        point = double_point(point)\n",
    "    return new_point"
   ]
  },
  {
   "cell_type": "code",
   "execution_count": 613,
   "id": "16ff431d",
   "metadata": {},
   "outputs": [
    {
     "name": "stdout",
     "output_type": "stream",
     "text": [
      "Порядок точки P:  5\n",
      "Порядок точки Q:  5\n"
     ]
    }
   ],
   "source": [
    "print('Порядок точки P: ', point_order(P))\n",
    "print('Порядок точки Q: ', point_order(Q))"
   ]
  },
  {
   "cell_type": "markdown",
   "id": "da6d3aa5",
   "metadata": {},
   "source": [
    "Ми вже переконались, що кожна з точок $P$ і $Q$ має експоненту $5$. Покажемо тепер, що жоден степінь точки $P$ не дорівнює точці $Q$. Оскільки порядок точки $P$ дорівнює $5$, достатньо перевірити степені $2, 3, 4$, далі вони будуть зациклені:"
   ]
  },
  {
   "cell_type": "code",
   "execution_count": 614,
   "id": "866b1ec8",
   "metadata": {},
   "outputs": [
    {
     "name": "stdout",
     "output_type": "stream",
     "text": [
      "1P =  (36, 571)\n",
      "2P =  (617, 5)\n",
      "3P =  (617, 626)\n",
      "4P =  (36, 60)\n",
      "5P =  (0, 0)\n",
      "6P =  (36, 571)\n",
      "7P =  (617, 5)\n",
      "8P =  (617, 626)\n",
      "9P =  (36, 60)\n",
      "10P =  (0, 0)\n"
     ]
    }
   ],
   "source": [
    "for i in range(1, 11):\n",
    "    print(f'{i}P = ', exp_point(P, i))"
   ]
  },
  {
   "cell_type": "markdown",
   "id": "9aae64a7",
   "metadata": {},
   "source": [
    "Таким чином, точки $P$ та $Q$ породжують підгрупу точок експоненти $5$."
   ]
  },
  {
   "cell_type": "markdown",
   "id": "6985629d",
   "metadata": {},
   "source": [
    "в) Обчисліть значення спарювання Вейля $w_5(P,Q)$ і перевірте, що отримане значення є коренем $5$ степеня з $1$."
   ]
  },
  {
   "cell_type": "code",
   "execution_count": 626,
   "id": "e599c6d8",
   "metadata": {},
   "outputs": [],
   "source": [
    "def g(p, q, m = MOD, a = 30):\n",
    "    if p == (q[0], -q[1]%m) or q == (p[0], -p[1]%m):\n",
    "        return lambda x, y: x + p[0]\n",
    "    elif p == q:\n",
    "        alpha = (3*p[0]**2 + a)*inverse(2*p[1], m)%m\n",
    "    else:\n",
    "        alpha =  (p[1] - q[1])*inverse(p[0] - q[0], m)%m\n",
    "    return lambda x, y: (y - p[1] - alpha*(x - p[0]))*inverse(x + p[0] + q[0] - alpha**2)"
   ]
  },
  {
   "cell_type": "code",
   "execution_count": 625,
   "id": "41759eb5",
   "metadata": {},
   "outputs": [],
   "source": [
    "def Miller(n, point, divisor, m = MOD):\n",
    "    n = bin(n)[2:][::-1]\n",
    "    t, f = point, 1\n",
    "    for j in reversed(range(len(n) - 1)):\n",
    "        f = f**2*g(t, t)(divisor[0], divisor[1])%m\n",
    "        t = double_point(t)\n",
    "        if j == 1:\n",
    "            f *= g(t, point)(divisor[0], divisor[1])%m\n",
    "            t = add_points(t, point)\n",
    "    return f"
   ]
  },
  {
   "cell_type": "markdown",
   "id": "358597fb",
   "metadata": {},
   "source": [
    "Оберемо випадкову точку $R=(0, 36)$, що не належить підгрупі, породженій точками $P$ і $Q$. "
   ]
  },
  {
   "cell_type": "code",
   "execution_count": 617,
   "id": "6d40699d",
   "metadata": {},
   "outputs": [],
   "source": [
    "R = (0, 36)"
   ]
  },
  {
   "cell_type": "code",
   "execution_count": 618,
   "id": "5af77540",
   "metadata": {},
   "outputs": [],
   "source": [
    "def Weil_pairing(n, p, q, r, m = MOD):\n",
    "    f_5P_QplusR = Miller(5, p, add_points(q, r))\n",
    "    f_5P_R = Miller(5, p, r)\n",
    "    f_5Q_PminusR = Miller(5, q, add_points(p, (r[0], -r[1]%m)))\n",
    "    f_5Q_minusR = Miller(5, q, (r[0], -r[1]%m))\n",
    "    print(f_5P_QplusR, f_5P_R, f_5Q_PminusR, f_5Q_minusR)\n",
    "    return f_5P_QplusR*inverse(f_5P_R, m)*f_5Q_minusR*inverse(f_5Q_PminusR)%m"
   ]
  },
  {
   "cell_type": "code",
   "execution_count": 620,
   "id": "79f0b73d",
   "metadata": {},
   "outputs": [
    {
     "name": "stdout",
     "output_type": "stream",
     "text": [
      "140 52 284 576\n"
     ]
    },
    {
     "data": {
      "text/plain": [
       "242"
      ]
     },
     "execution_count": 620,
     "metadata": {},
     "output_type": "execute_result"
    }
   ],
   "source": [
    "w = Weil_pairing(5, P, Q, R)\n",
    "w"
   ]
  },
  {
   "cell_type": "markdown",
   "id": "45eec85d",
   "metadata": {},
   "source": [
    "Користуючись алгоритмом Міллера, обчислимо значення $f_{5,P}$ і $f_{5,Q}$: \n",
    "\n",
    "$$f_{5,P}(Q+R)=140,$$\n",
    "\n",
    "$$f_{5,P}(R)=52,$$\n",
    "\n",
    "$$f_{5,Q}(P-R)=284,$$\n",
    "\n",
    "$$f_{5,Q}(-R)=576.$$\n",
    "\n",
    "Отже \n",
    "\n",
    "$$w_5(P,Q)=\\frac{f_{5,P}(Q+R)}{f_{5,P}(R)}\\cdot\\frac{f_{5,Q}(-R)}{f_{5,Q}(P-R)}=242.$$"
   ]
  },
  {
   "cell_type": "markdown",
   "id": "d8fd6fd3",
   "metadata": {},
   "source": [
    "Перевіримо, що $w_5(P,Q)$ є корененем $5$ степеня з $1$:"
   ]
  },
  {
   "cell_type": "code",
   "execution_count": 622,
   "id": "346a6208",
   "metadata": {},
   "outputs": [
    {
     "data": {
      "text/plain": [
       "True"
      ]
     },
     "execution_count": 622,
     "metadata": {},
     "output_type": "execute_result"
    }
   ],
   "source": [
    "w**5%MOD == 1"
   ]
  },
  {
   "cell_type": "code",
   "execution_count": null,
   "id": "66712ad8",
   "metadata": {},
   "outputs": [],
   "source": []
  }
 ],
 "metadata": {
  "kernelspec": {
   "display_name": "Python 3 (ipykernel)",
   "language": "python",
   "name": "python3"
  },
  "language_info": {
   "codemirror_mode": {
    "name": "ipython",
    "version": 3
   },
   "file_extension": ".py",
   "mimetype": "text/x-python",
   "name": "python",
   "nbconvert_exporter": "python",
   "pygments_lexer": "ipython3",
   "version": "3.9.7"
  }
 },
 "nbformat": 4,
 "nbformat_minor": 5
}
